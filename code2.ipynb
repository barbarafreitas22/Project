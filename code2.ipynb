{
 "cells": [
  {
   "cell_type": "markdown",
   "metadata": {},
   "source": [
    "## Comprehensive Analysis of Dual-Function AMPs (antimicrobial and anticancer activity)"
   ]
  },
  {
   "cell_type": "markdown",
   "metadata": {},
   "source": [
    "This notebook includes:\n",
    "\n",
    "- Dataset construction, with a 90/10 train-test split.\n",
    "\n",
    "- Feature extraction (descriptors) with hyperparameter optimization (GridSearchCV) and model training.\n",
    "\n",
    "- Evaluation of ML baseline models: Naive Bayes, Random Forest,  Support Vector Machine (SVM) and Decision Tree.\n",
    "\n",
    "- Performance metrics, including confusion matrices, for the best predictive model.\n",
    "\n",
    "- Feature importance and relevance analysis.\n"
   ]
  },
  {
   "cell_type": "markdown",
   "metadata": {},
   "source": [
    "In this section, we import the necessary libraries and modules to perform the analysis and ML tasks for predicting peptide activities. "
   ]
  },
  {
   "cell_type": "code",
   "execution_count": 1,
   "metadata": {},
   "outputs": [],
   "source": [
    "import pandas as pd\n",
    "from peptidy.descriptors import compute_descriptors, descriptor_names\n",
    "from sklearn.model_selection import train_test_split, GridSearchCV\n",
    "from sklearn.ensemble import RandomForestClassifier\n",
    "from sklearn.metrics import ConfusionMatrixDisplay, classification_report\n",
    "from imblearn.over_sampling import SMOTE\n",
    "from sklearn.pipeline import Pipeline\n",
    "import matplotlib.pyplot as plt"
   ]
  },
  {
   "cell_type": "markdown",
   "metadata": {},
   "source": [
    "This script creates a negative dataset by filtering a low-similarity peptide results file. It retains relevant metadata , to ensure the dataset's quality. The filtered data is saved to a new file, low_similarity_metadata.tsv."
   ]
  },
  {
   "cell_type": "code",
   "execution_count": 2,
   "metadata": {},
   "outputs": [
    {
     "name": "stdout",
     "output_type": "stream",
     "text": [
      "File 'low_similarity_metadata.tsv' created successfully with 2721 records.\n"
     ]
    }
   ],
   "source": [
    "import pandas as pd\n",
    "\n",
    "# Load the low-similarity results\n",
    "low_similarity_results = pd.read_csv(\"low_similarity_results.tsv\", sep=\"\\t\")\n",
    "\n",
    "# Define the desired columns to keep\n",
    "desired_columns = [\n",
    "    \"DRAMP_ID\", \"Sequence\", \"Sequence_Length\", \"Name\", \"Swiss_Prot_Entry\", \n",
    "    \"Family\", \"Gene\", \"Source\", \"Activity\", \"Protein_existence\", \n",
    "    \"N-terminal_Modification\", \"C-terminal_Modification\", \"Other_Modifications\", \n",
    "    \"Stereochemistry\", \"Cytotoxicity\", \"Binding_Traget\", \"Pubmed_ID\", \n",
    "    \"Reference\", \"Author\", \"Title\"\n",
    "]\n",
    "\n",
    "# Filter the DataFrame to keep only the desired columns\n",
    "filtered_results = low_similarity_results[desired_columns]\n",
    "\n",
    "# Save the filtered results to a new file\n",
    "filtered_results.to_csv(\"low_similarity_metadata.tsv\", sep=\"\\t\", index=False)\n",
    "\n",
    "# Print a success message with the number of records\n",
    "print(f\"File 'low_similarity_metadata.tsv' created successfully with {len(filtered_results)} records.\")"
   ]
  },
  {
   "cell_type": "markdown",
   "metadata": {},
   "source": [
    "In here we combine a positive and negative  datasets to create a unified dataset. It starts by loading the positive (AMPs) and negative (low similarity) sequences, then labels the positive sequences as 1 and the negative ones as 0. The sequences are standardized to uppercase and duplicates are removed. Finally, the two datasets are concatenated providing a balanced dataset for training and validation"
   ]
  },
  {
   "cell_type": "code",
   "execution_count": 3,
   "metadata": {},
   "outputs": [
    {
     "name": "stdout",
     "output_type": "stream",
     "text": [
      "Total sequences: 6024\n",
      "label\n",
      "1    3303\n",
      "0    2721\n",
      "Name: count, dtype: int64\n"
     ]
    }
   ],
   "source": [
    "import pandas as pd\n",
    "\n",
    "# 1. Load the datasets\n",
    "df_pos = pd.read_excel(\"filtered_amps_updated.xlsx\")\n",
    "df_neg = pd.read_csv(\"low_similarity_metadata.tsv\", sep=\"\\t\")\n",
    "\n",
    "# 2. Add labels\n",
    "df_pos[\"label\"] = 1\n",
    "df_neg[\"label\"] = 0\n",
    "\n",
    "# 3. Keep only the \"Sequence\" column and the label\n",
    "df_pos = df_pos[[\"Sequence\", \"label\"]]\n",
    "df_neg = df_neg[[\"Sequence\", \"label\"]]\n",
    "\n",
    "# 4. Standardize to uppercase and remove duplicates\n",
    "df_pos[\"Sequence\"] = df_pos[\"Sequence\"].str.upper()\n",
    "df_neg[\"Sequence\"] = df_neg[\"Sequence\"].str.upper()\n",
    "\n",
    "# 5. Concatenate the datasets and remove duplicates by sequence\n",
    "df_all = pd.concat([df_pos, df_neg], ignore_index=True)\n",
    "\n",
    "# 6. Check the result\n",
    "print(f\"Total sequences: {len(df_all)}\")\n",
    "print(df_all[\"label\"].value_counts())"
   ]
  },
  {
   "cell_type": "markdown",
   "metadata": {},
   "source": [
    "### Feature Extraction from Valid Peptide Sequences\n",
    "\n",
    "Preprocess peptide sequences and extract meaningful features for machine learning applications. To ensure data consistency and compatibility with feature extraction tools, the sequences are first converted to uppercase and filtered to include only valid amino acids. \n",
    "\n",
    "Once the sequences are validated, features are computed for each peptide using descriptor functions. These features capture various physicochemical and structural properties of the peptides, such as molecular weight, isoelectric point, hydrophobicity, and more. The extracted features are then organized into a DataFrame to serve as input (X) for machine learning models. Corresponding labels (y) are also prepared to enable supervised learning tasks, such as classification."
   ]
  },
  {
   "cell_type": "code",
   "execution_count": 5,
   "metadata": {},
   "outputs": [],
   "source": [
    "# Convert sequences to uppercase and filter invalid sequences\n",
    "valid_amino_acids = set(\"ACDEFGHIKLMNPQRSTVWY\")\n",
    "sequences = df_all[\"Sequence\"].str.upper() \n",
    "sequences = sequences[sequences.apply(lambda seq: set(seq).issubset(valid_amino_acids))].tolist()  # Filter valid sequences\n",
    "\n",
    "# Ensure labels match the filtered sequences\n",
    "labels = df_all.loc[df_all[\"Sequence\"].str.upper().isin(sequences), \"label\"].tolist()\n",
    "\n",
    "# Compute descriptors for each valid sequence\n",
    "features = [compute_descriptors(seq) for seq in sequences]\n",
    "\n",
    "# Convert the list of descriptor dictionaries into a DataFrame\n",
    "X = pd.DataFrame(features)\n",
    "\n",
    "# Labels remain the same\n",
    "y = labels"
   ]
  },
  {
   "cell_type": "code",
   "execution_count": 6,
   "metadata": {},
   "outputs": [],
   "source": [
    "from Bio.SeqUtils.ProtParam import ProteinAnalysis\n",
    "from collections import Counter\n",
    "\n",
    "# Convert sequences to uppercase and filter invalid sequences\n",
    "valid_amino_acids = set(\"ACDEFGHIKLMNPQRSTVWY\")\n",
    "sequences = df_all[\"Sequence\"].str.upper() \n",
    "sequences = sequences[sequences.apply(lambda seq: set(seq).issubset(valid_amino_acids))].tolist()  # Filter valid sequences\n",
    "\n",
    "# Ensure labels match the filtered sequences\n",
    "labels = df_all.loc[df_all[\"Sequence\"].str.upper().isin(sequences), \"label\"].tolist()\n",
    "\n",
    "# Compute descriptors for each valid sequence\n",
    "features = []\n",
    "for seq in sequences:\n",
    "    # Compute basic descriptors\n",
    "    descriptor = compute_descriptors(seq)\n",
    "    \n",
    "    # Compute amino acid frequencies\n",
    "    aa_freq = {aa: seq.count(aa) / len(seq) for aa in valid_amino_acids}\n",
    "    \n",
    "    # Compute physicochemical properties using BioPython\n",
    "    analysis = ProteinAnalysis(seq)\n",
    "    physicochemical_props = {\n",
    "        'aromaticity': analysis.aromaticity(),\n",
    "        'instability_index': analysis.instability_index(),\n",
    "        'gravy': analysis.gravy(),  # Grand average of hydropathy\n",
    "        'isoelectric_point': analysis.isoelectric_point()\n",
    "    }\n",
    "    \n",
    "    # Compute bigram frequencies\n",
    "    bigrams = [seq[i:i+2] for i in range(len(seq) - 1)]\n",
    "    bigram_counts = Counter(bigrams)\n",
    "    \n",
    "    # Combine all features\n",
    "    combined_features = {**descriptor, **aa_freq, **physicochemical_props, **bigram_counts}\n",
    "    features.append(combined_features)\n",
    "\n",
    "# Convert the list of descriptor dictionaries into a DataFrame\n",
    "X = pd.DataFrame(features).fillna(0)  # Fill missing values with 0\n",
    "\n",
    "# Labels remain the same\n",
    "y = labels"
   ]
  },
  {
   "cell_type": "code",
   "execution_count": 7,
   "metadata": {},
   "outputs": [],
   "source": [
    "from sklearn.preprocessing import StandardScaler\n",
    "\n",
    "scaler = StandardScaler()\n",
    "X_normalized = scaler.fit_transform(X)"
   ]
  },
  {
   "cell_type": "code",
   "execution_count": 8,
   "metadata": {},
   "outputs": [],
   "source": [
    "from sklearn.feature_extraction.text import CountVectorizer\n",
    "\n",
    "vectorizer = CountVectorizer(analyzer='char', ngram_range=(2, 3))  # Bigrams and trigrams\n",
    "X_ngrams = vectorizer.fit_transform(sequences)"
   ]
  },
  {
   "cell_type": "markdown",
   "metadata": {},
   "source": [
    "### Remove feautures with low variance"
   ]
  },
  {
   "cell_type": "code",
   "execution_count": 9,
   "metadata": {},
   "outputs": [
    {
     "name": "stdout",
     "output_type": "stream",
     "text": [
      "Number of features after removing low-variance features: 403\n"
     ]
    }
   ],
   "source": [
    "from sklearn.feature_selection import VarianceThreshold\n",
    "\n",
    "# Remove low-variance features\n",
    "selector = VarianceThreshold(threshold=0.01)  # Adjust threshold as needed\n",
    "X_reduced = selector.fit_transform(X)\n",
    "\n",
    "# Get the remaining feature names\n",
    "selected_features = X.columns[selector.get_support()]\n",
    "X = pd.DataFrame(X_reduced, columns=selected_features)\n",
    "\n",
    "print(f\"Number of features after removing low-variance features: {X.shape[1]}\")"
   ]
  },
  {
   "cell_type": "markdown",
   "metadata": {},
   "source": [
    "### Stratified Train-Test Split\n",
    "\n",
    "To objectively evaluate the predictive performance of the machine learning models, it is essential to partition the available dataset into separate subsets for training and testing. The training set is used to fit the model, while the test set provides a estimate of its generalization performance on unseen data.\n",
    "\n",
    "The parameter stratify=y ensures that the class distribution is preserved across both training and testing subsets, which is particularly important for imbalanced datasets. This stratification supports fair performance comparisons across different models. The fixed random_state ensures reproducibility allowing results to be validated and benchmarked consistently across multiple experimental runs.\n",
    "\n",
    "We use  Train_test_split from scikit-learn to divide the input features X and corresponding labels y into:\n",
    "\n",
    "- X_train, y_train: 90% of the data used for model training.\n",
    "\n",
    "- X_test, y_test: 10% of the data reserved for final model evaluation."
   ]
  },
  {
   "cell_type": "code",
   "execution_count": 10,
   "metadata": {},
   "outputs": [],
   "source": [
    "X_train, X_test, y_train, y_test = train_test_split(X, y, test_size=0.10, stratify=y, random_state=42)"
   ]
  },
  {
   "cell_type": "markdown",
   "metadata": {},
   "source": [
    "### Class Distribution Analysis to Verify the Dataset Balance\n",
    "\n",
    "In here we analise class distribution to identify potential imbalances in the dataset. Visualizing the distribution with bar plots helps assess balance and decide if techniques to balance are needed."
   ]
  },
  {
   "cell_type": "code",
   "execution_count": 11,
   "metadata": {},
   "outputs": [
    {
     "name": "stdout",
     "output_type": "stream",
     "text": [
      "Class distribution:\n",
      " 0    2713\n",
      "1    2362\n",
      "Name: count, dtype: int64\n"
     ]
    },
    {
     "data": {
      "image/png": "[encoded data removed]",
      "text/plain": [
       "<Figure size 640x480 with 1 Axes>"
      ]
     },
     "metadata": {},
     "output_type": "display_data"
    }
   ],
   "source": [
    "import pandas as pd\n",
    "import matplotlib.pyplot as plt\n",
    "\n",
    "class_distribution = pd.Series(y).value_counts()\n",
    "print(\"Class distribution:\\n\", class_distribution)\n",
    "\n",
    "# Class distribution plot\n",
    "class_distribution.plot(kind='bar', title='Class Distribution')\n",
    "plt.xlabel('Class')\n",
    "plt.ylabel('Count')\n",
    "plt.show()"
   ]
  },
  {
   "cell_type": "markdown",
   "metadata": {},
   "source": [
    "### Number of feautures"
   ]
  },
  {
   "cell_type": "code",
   "execution_count": 12,
   "metadata": {},
   "outputs": [
    {
     "name": "stdout",
     "output_type": "stream",
     "text": [
      "Number of features in the dataset: 403\n"
     ]
    }
   ],
   "source": [
    "num_features = X_train.shape[1] \n",
    "print(f\"Number of features in the dataset: {num_features}\")"
   ]
  },
  {
   "cell_type": "markdown",
   "metadata": {},
   "source": [
    "### Model Training and Hyperparameter Optimization \n",
    "\n",
    "To train and optimize multiple supervised machine learning models for binary classification of peptides by integrating  exhaustive hyperparameter search (GridSearchCV).\n",
    "\n",
    "- Distinct classifiers are considered: Random Forest, Decision Tree and Naive Bayes. These models offer a range of learning capacities and inductive biases.\n",
    "\n",
    "- GridSearchCV is used to identify the optimal combination of hyperparameters for each model using 10-fold cross-validation.\n",
    "\n",
    "- The best hyperparameters and corresponding cross-validated performance are printed for comparative assessment.\n",
    "\n",
    "        This approach ensures that each model is fairly tuned and evaluated under consistent data balancing \n",
    "        and search space conditions."
   ]
  },
  {
   "cell_type": "code",
   "execution_count": 28,
   "metadata": {},
   "outputs": [
    {
     "name": "stdout",
     "output_type": "stream",
     "text": [
      "Training Random Forest...\n",
      "Best Hyperparameters for Random Forest: {'model__max_depth': 20, 'model__min_samples_split': 10, 'model__n_estimators': 200}\n",
      "Best Cross-Validated F1-Score for Random Forest: 0.9366\n",
      "--------------------------------------------------\n",
      "Training Decision Tree...\n",
      "Best Hyperparameters for Decision Tree: {'model__max_depth': 10, 'model__min_samples_split': 2}\n",
      "Best Cross-Validated F1-Score for Decision Tree: 0.9242\n",
      "--------------------------------------------------\n",
      "Training Naive Bayes...\n",
      "Best Hyperparameters for Naive Bayes: {'model__var_smoothing': 1e-10}\n",
      "Best Cross-Validated F1-Score for Naive Bayes: 0.8707\n",
      "--------------------------------------------------\n"
     ]
    }
   ],
   "source": [
    "from sklearn.ensemble import RandomForestClassifier\n",
    "from sklearn.tree import DecisionTreeClassifier\n",
    "from sklearn.naive_bayes import GaussianNB\n",
    "from sklearn.model_selection import GridSearchCV, StratifiedKFold\n",
    "from sklearn.pipeline import Pipeline \n",
    "\n",
    "# Stratified cross-validation\n",
    "cv = StratifiedKFold(n_splits=10, shuffle=True, random_state=42)\n",
    "\n",
    "# Define the models and their hyperparameters\n",
    "models = {\n",
    "    'Random Forest': {\n",
    "        'model': RandomForestClassifier(random_state=42),\n",
    "        'param_grid': {\n",
    "            'model__n_estimators': [100, 200, 300],\n",
    "            'model__max_depth': [None, 10, 20],\n",
    "            'model__min_samples_split': [2, 5, 10]\n",
    "        }\n",
    "    },\n",
    "    'Decision Tree': {\n",
    "        'model': DecisionTreeClassifier(random_state=42),\n",
    "        'param_grid': {\n",
    "            'model__max_depth': [None, 10, 20],\n",
    "            'model__min_samples_split': [2, 5, 10]\n",
    "        }\n",
    "    },\n",
    "    'Naive Bayes': {\n",
    "        'model': GaussianNB(),\n",
    "        'param_grid': {\n",
    "            'model__var_smoothing': [1e-10, 1e-11, 1e-12, 1e-13]\n",
    "        }\n",
    "    }\n",
    "}\n",
    "\n",
    "# Train each model using GridSearchCV \n",
    "for model_name, config in models.items():\n",
    "    print(f\"Training {model_name}...\")\n",
    "\n",
    "    # Create a pipeline with just the model\n",
    "    pipeline = Pipeline([\n",
    "        ('model', config['model'])\n",
    "    ])\n",
    "\n",
    "    # Grid search\n",
    "    grid_search = GridSearchCV(\n",
    "        estimator=pipeline,\n",
    "        param_grid=config['param_grid'],\n",
    "        cv=cv,\n",
    "        scoring='f1',\n",
    "        n_jobs=-1\n",
    "    )\n",
    "\n",
    "    # Train\n",
    "    grid_search.fit(X_train, y_train)\n",
    "\n",
    "    # Output best results\n",
    "    print(f\"Best Hyperparameters for {model_name}: {grid_search.best_params_}\")\n",
    "    print(f\"Best Cross-Validated F1-Score for {model_name}: {grid_search.best_score_:.4f}\")\n",
    "    print(\"-\" * 50)\n"
   ]
  },
  {
   "cell_type": "markdown",
   "metadata": {},
   "source": [
    "## Accuracy"
   ]
  },
  {
   "cell_type": "code",
   "execution_count": 30,
   "metadata": {},
   "outputs": [
    {
     "name": "stdout",
     "output_type": "stream",
     "text": [
      "Training Random Forest...\n",
      "Best Hyperparameters for Random Forest: {'model__max_depth': 20, 'model__min_samples_split': 5, 'model__n_estimators': 100}\n",
      "Best Cross-Validated Accuracy for Random Forest: 0.9422\n",
      "--------------------------------------------------\n",
      "Training Decision Tree...\n",
      "Best Hyperparameters for Decision Tree: {'model__max_depth': 10, 'model__min_samples_split': 2}\n",
      "Best Cross-Validated Accuracy for Decision Tree: 0.9332\n",
      "--------------------------------------------------\n",
      "Training Naive Bayes...\n",
      "Best Hyperparameters for Naive Bayes: {'model__var_smoothing': 1e-10}\n",
      "Best Cross-Validated Accuracy for Naive Bayes: 0.8807\n",
      "--------------------------------------------------\n"
     ]
    }
   ],
   "source": [
    "from sklearn.ensemble import RandomForestClassifier\n",
    "from sklearn.tree import DecisionTreeClassifier\n",
    "from sklearn.naive_bayes import GaussianNB\n",
    "from sklearn.model_selection import GridSearchCV, StratifiedKFold\n",
    "from sklearn.pipeline import Pipeline \n",
    "\n",
    "# Stratified cross-validation\n",
    "cv = StratifiedKFold(n_splits=10, shuffle=True, random_state=42)\n",
    "\n",
    "# Define the models and their hyperparameters\n",
    "models = {\n",
    "    'Random Forest': {\n",
    "        'model': RandomForestClassifier(random_state=42),\n",
    "        'param_grid': {\n",
    "            'model__n_estimators': [100, 200, 300],\n",
    "            'model__max_depth': [None, 10, 20],\n",
    "            'model__min_samples_split': [2, 5, 10]\n",
    "        }\n",
    "    },\n",
    "    'Decision Tree': {\n",
    "        'model': DecisionTreeClassifier(random_state=42),\n",
    "        'param_grid': {\n",
    "            'model__max_depth': [None, 10, 20],\n",
    "            'model__min_samples_split': [2, 5, 10]\n",
    "        }\n",
    "    },\n",
    "    'Naive Bayes': {\n",
    "        'model': GaussianNB(),\n",
    "        'param_grid': {\n",
    "            'model__var_smoothing': [1e-10, 1e-11, 1e-12, 1e-13]\n",
    "        }\n",
    "    }\n",
    "}\n",
    "\n",
    "# Train each model using GridSearchCV without SMOTE\n",
    "for model_name, config in models.items():\n",
    "    print(f\"Training {model_name}...\")\n",
    "\n",
    "    # Create a pipeline with just the model (no SMOTE)\n",
    "    pipeline = Pipeline([\n",
    "        ('model', config['model'])\n",
    "    ])\n",
    "\n",
    "    # Grid search\n",
    "    grid_search = GridSearchCV(\n",
    "        estimator=pipeline,\n",
    "        param_grid=config['param_grid'],\n",
    "        cv=cv,\n",
    "        scoring='accuracy',  # Change scoring metric to accuracy\n",
    "        n_jobs=-1\n",
    "    )\n",
    "\n",
    "    # Train\n",
    "    grid_search.fit(X_train, y_train)\n",
    "\n",
    "    # Output best results\n",
    "    print(f\"Best Hyperparameters for {model_name}: {grid_search.best_params_}\")\n",
    "    print(f\"Best Cross-Validated Accuracy for {model_name}: {grid_search.best_score_:.4f}\")\n",
    "    print(\"-\" * 50)"
   ]
  },
  {
   "cell_type": "markdown",
   "metadata": {},
   "source": [
    "## Precision"
   ]
  },
  {
   "cell_type": "code",
   "execution_count": 31,
   "metadata": {},
   "outputs": [
    {
     "name": "stdout",
     "output_type": "stream",
     "text": [
      "Training Random Forest...\n",
      "Best Hyperparameters for Random Forest: {'model__max_depth': 20, 'model__min_samples_split': 5, 'model__n_estimators': 100}\n",
      "Best Cross-Validated Precision for Random Forest: 0.9561\n",
      "--------------------------------------------------\n",
      "Training Decision Tree...\n",
      "Best Hyperparameters for Decision Tree: {'model__max_depth': 10, 'model__min_samples_split': 2}\n",
      "Best Cross-Validated Precision for Decision Tree: 0.9605\n",
      "--------------------------------------------------\n",
      "Training Naive Bayes...\n",
      "Best Hyperparameters for Naive Bayes: {'model__var_smoothing': 1e-13}\n",
      "Best Cross-Validated Precision for Naive Bayes: 0.8802\n",
      "--------------------------------------------------\n"
     ]
    }
   ],
   "source": [
    "from sklearn.ensemble import RandomForestClassifier\n",
    "from sklearn.tree import DecisionTreeClassifier\n",
    "from sklearn.naive_bayes import GaussianNB\n",
    "from sklearn.model_selection import GridSearchCV, StratifiedKFold\n",
    "from sklearn.pipeline import Pipeline  # agora do sklearn, não do imblearn\n",
    "\n",
    "# Stratified cross-validation\n",
    "cv = StratifiedKFold(n_splits=10, shuffle=True, random_state=42)\n",
    "\n",
    "# Define the models and their hyperparameters\n",
    "models = {\n",
    "    'Random Forest': {\n",
    "        'model': RandomForestClassifier(random_state=42),\n",
    "        'param_grid': {\n",
    "            'model__n_estimators': [100, 200, 300],\n",
    "            'model__max_depth': [None, 10, 20],\n",
    "            'model__min_samples_split': [2, 5, 10]\n",
    "        }\n",
    "    },\n",
    "    'Decision Tree': {\n",
    "        'model': DecisionTreeClassifier(random_state=42),\n",
    "        'param_grid': {\n",
    "            'model__max_depth': [None, 10, 20],\n",
    "            'model__min_samples_split': [2, 5, 10]\n",
    "        }\n",
    "    },\n",
    "    'Naive Bayes': {\n",
    "        'model': GaussianNB(),\n",
    "        'param_grid': {\n",
    "            'model__var_smoothing': [1e-10, 1e-11, 1e-12, 1e-13]\n",
    "        }\n",
    "    }\n",
    "}\n",
    "\n",
    "# Train each model using GridSearchCV without SMOTE\n",
    "for model_name, config in models.items():\n",
    "    print(f\"Training {model_name}...\")\n",
    "\n",
    "    # Create a pipeline with just the model (no SMOTE)\n",
    "    pipeline = Pipeline([\n",
    "        ('model', config['model'])\n",
    "    ])\n",
    "\n",
    "    # Grid search\n",
    "    grid_search = GridSearchCV(\n",
    "        estimator=pipeline,\n",
    "        param_grid=config['param_grid'],\n",
    "        cv=cv,\n",
    "        scoring='precision',  # Change scoring metric to precision\n",
    "        n_jobs=-1\n",
    "    )\n",
    "\n",
    "    # Train\n",
    "    grid_search.fit(X_train, y_train)\n",
    "\n",
    "    # Output best results\n",
    "    print(f\"Best Hyperparameters for {model_name}: {grid_search.best_params_}\")\n",
    "    print(f\"Best Cross-Validated Precision for {model_name}: {grid_search.best_score_:.4f}\")\n",
    "    print(\"-\" * 50)"
   ]
  },
  {
   "cell_type": "markdown",
   "metadata": {},
   "source": [
    "### MCC "
   ]
  },
  {
   "cell_type": "code",
   "execution_count": 32,
   "metadata": {},
   "outputs": [
    {
     "name": "stdout",
     "output_type": "stream",
     "text": [
      "Training Random Forest...\n",
      "Best Hyperparameters for Random Forest: {'model__max_depth': 20, 'model__min_samples_split': 5, 'model__n_estimators': 100}\n",
      "Best Cross-Validated MCC for Random Forest: 0.8844\n",
      "--------------------------------------------------\n",
      "Training Decision Tree...\n",
      "Best Hyperparameters for Decision Tree: {'model__max_depth': 10, 'model__min_samples_split': 2}\n",
      "Best Cross-Validated MCC for Decision Tree: 0.8674\n",
      "--------------------------------------------------\n",
      "Training Naive Bayes...\n",
      "Best Hyperparameters for Naive Bayes: {'model__var_smoothing': 1e-10}\n",
      "Best Cross-Validated MCC for Naive Bayes: 0.7603\n",
      "--------------------------------------------------\n"
     ]
    }
   ],
   "source": [
    "from sklearn.ensemble import RandomForestClassifier\n",
    "from sklearn.tree import DecisionTreeClassifier\n",
    "from sklearn.naive_bayes import GaussianNB\n",
    "from sklearn.model_selection import GridSearchCV, StratifiedKFold\n",
    "from sklearn.pipeline import Pipeline  # agora do sklearn, não do imblearn\n",
    "from sklearn.metrics import matthews_corrcoef, make_scorer\n",
    "\n",
    "# Stratified cross-validation\n",
    "cv = StratifiedKFold(n_splits=10, shuffle=True, random_state=42)\n",
    "\n",
    "# Define MCC as a custom scoring function\n",
    "mcc_scorer = make_scorer(matthews_corrcoef)\n",
    "\n",
    "# Define the models and their hyperparameters\n",
    "models = {\n",
    "    'Random Forest': {\n",
    "        'model': RandomForestClassifier(random_state=42),\n",
    "        'param_grid': {\n",
    "            'model__n_estimators': [100, 200, 300],\n",
    "            'model__max_depth': [None, 10, 20],\n",
    "            'model__min_samples_split': [2, 5, 10]\n",
    "        }\n",
    "    },\n",
    "    'Decision Tree': {\n",
    "        'model': DecisionTreeClassifier(random_state=42),\n",
    "        'param_grid': {\n",
    "            'model__max_depth': [None, 10, 20],\n",
    "            'model__min_samples_split': [2, 5, 10]\n",
    "        }\n",
    "    },\n",
    "    'Naive Bayes': {\n",
    "        'model': GaussianNB(),\n",
    "        'param_grid': {\n",
    "            'model__var_smoothing': [1e-10, 1e-11, 1e-12, 1e-13]\n",
    "        }\n",
    "    }\n",
    "}\n",
    "\n",
    "# Train each model using GridSearchCV without SMOTE\n",
    "for model_name, config in models.items():\n",
    "    print(f\"Training {model_name}...\")\n",
    "\n",
    "    # Create a pipeline with just the model (no SMOTE)\n",
    "    pipeline = Pipeline([\n",
    "        ('model', config['model'])\n",
    "    ])\n",
    "\n",
    "    # Grid search\n",
    "    grid_search = GridSearchCV(\n",
    "        estimator=pipeline,\n",
    "        param_grid=config['param_grid'],\n",
    "        cv=cv,\n",
    "        scoring=mcc_scorer,  # Use MCC as the scoring metric\n",
    "        n_jobs=-1\n",
    "    )\n",
    "\n",
    "    # Train\n",
    "    grid_search.fit(X_train, y_train)\n",
    "\n",
    "    # Output best results\n",
    "    print(f\"Best Hyperparameters for {model_name}: {grid_search.best_params_}\")\n",
    "    print(f\"Best Cross-Validated MCC for {model_name}: {grid_search.best_score_:.4f}\")\n",
    "    print(\"-\" * 50)"
   ]
  },
  {
   "cell_type": "markdown",
   "metadata": {},
   "source": [
    "## Support Vector Machine (SVM) with Dedicated Grid Search\n",
    "\n",
    "Due to the longer runtime of SVMs and the nature of the kernel hyperparameter tuning, we opted to run SVM separately using a more focused grid search strategy. The pipeline was structured to:\n",
    "\n",
    "- Apply SMOTE for balancing the training folds.\n",
    "\n",
    "- Optimize over the regularization parameter (C) using a linear kernel, which is especially well-suited for high-dimensional biological datasets.\n",
    "\n",
    "- Use 5-fold cross-validation during GridSearchCV to reduce computational cost while maintaining robustness.\n",
    "\n",
    "The SVM’s dedicated training ensured its hyperparameters were explored thoroughly without hindering the training efficiency of the other models."
   ]
  },
  {
   "cell_type": "code",
   "execution_count": 33,
   "metadata": {},
   "outputs": [
    {
     "name": "stdout",
     "output_type": "stream",
     "text": [
      "Fitting 5 folds for each of 5 candidates, totalling 25 fits\n",
      "Best Hyperparameters for SVM: {'model__C': 0.1, 'model__kernel': 'linear'}\n",
      "F1-Score on Test Set for SVM: 0.9142\n"
     ]
    }
   ],
   "source": [
    "from sklearn.pipeline import Pipeline\n",
    "from sklearn.svm import SVC\n",
    "from sklearn.model_selection import GridSearchCV\n",
    "from sklearn.metrics import f1_score\n",
    "\n",
    "# Define the pipeline \n",
    "pipeline = Pipeline([\n",
    "    ('model', SVC(random_state=42))\n",
    "])\n",
    "\n",
    "# Hyperparameter grid (linear kernel only)\n",
    "param_grid = {\n",
    "    'model__C': [0.001, 0.001, 0.1, 1, 10],\n",
    "    'model__kernel': ['linear']\n",
    "}\n",
    "\n",
    "# GridSearchCV setup\n",
    "grid_search = GridSearchCV(\n",
    "    estimator=pipeline,\n",
    "    param_grid=param_grid,\n",
    "    cv=5,\n",
    "    scoring='f1',\n",
    "    verbose=1,\n",
    "    n_jobs=-1\n",
    ")\n",
    "\n",
    "# Fit and evaluate\n",
    "grid_search.fit(X_train, y_train)\n",
    "y_pred = grid_search.best_estimator_.predict(X_test)\n",
    "f1 = f1_score(y_test, y_pred)\n",
    "\n",
    "# Output\n",
    "print(\"Best Hyperparameters for SVM:\", grid_search.best_params_)\n",
    "print(f\"F1-Score on Test Set for SVM: {f1:.4f}\")"
   ]
  },
  {
   "cell_type": "markdown",
   "metadata": {},
   "source": [
    "## ROC curves\n",
    "\n",
    "The curve provides insight into the trade-off between correctly identifying positive cases and incorrectly classifying negative cases as positive.In this code, ROC curves are generated for multiple models to compare their performance. The curves allow us to visually assess which model performs better across different thresholds, while the AUC provides a quantitative measure of their overall performance. "
   ]
  },
  {
   "cell_type": "code",
   "execution_count": 30,
   "metadata": {},
   "outputs": [
    {
     "data": {
      "image/png": "[encoded data removed]",
      "text/plain": [
       "<Figure size 1000x800 with 1 Axes>"
      ]
     },
     "metadata": {},
     "output_type": "display_data"
    }
   ],
   "source": [
    "import matplotlib.pyplot as plt\n",
    "from sklearn.metrics import roc_curve, auc\n",
    "from sklearn.ensemble import RandomForestClassifier\n",
    "from sklearn.tree import DecisionTreeClassifier\n",
    "from sklearn.naive_bayes import GaussianNB\n",
    "from sklearn.svm import SVC\n",
    "from sklearn.pipeline import Pipeline\n",
    "\n",
    "# Define best models \n",
    "models = {\n",
    "    'Random Forest': Pipeline([\n",
    "        ('model', RandomForestClassifier(n_estimators=100, max_depth=None, min_samples_split=2, random_state=42))\n",
    "    ]),\n",
    "    'Decision Tree': Pipeline([\n",
    "        ('model', DecisionTreeClassifier(max_depth=20, min_samples_split=5, random_state=42))\n",
    "    ]),\n",
    "    'Naive Bayes': Pipeline([\n",
    "        ('model', GaussianNB(var_smoothing=1e-12))\n",
    "    ]),\n",
    "    'SVM': Pipeline([\n",
    "        ('model', SVC(C=0.1, kernel='linear', probability=True, random_state=42))\n",
    "    ])\n",
    "}\n",
    "\n",
    "# Plot ROC curves\n",
    "plt.figure(figsize=(10, 8))\n",
    "\n",
    "for name, pipeline in models.items():\n",
    "    pipeline.fit(X_train, y_train)\n",
    "    y_proba = pipeline.predict_proba(X_test)[:, 1]\n",
    "    fpr, tpr, _ = roc_curve(y_test, y_proba)\n",
    "    roc_auc = auc(fpr, tpr)\n",
    "    plt.plot(fpr, tpr, label=f'{name} (AUC = {roc_auc:.2f})')\n",
    "\n",
    "# Plot settings\n",
    "plt.plot([0, 1], [0, 1], 'k--') \n",
    "plt.xlim([0.0, 1.0])\n",
    "plt.ylim([0.0, 1.05])\n",
    "plt.xlabel('False Positive Rate')\n",
    "plt.ylabel('True Positive Rate')\n",
    "plt.title('ROC Curves for ML Models')\n",
    "plt.legend(loc='lower right')\n",
    "plt.grid(True)\n",
    "plt.tight_layout()\n",
    "plt.show()"
   ]
  },
  {
   "cell_type": "markdown",
   "metadata": {},
   "source": [
    "### Performance Metrics and Confusion Matrix\n",
    "\n",
    "To rigorously evaluate the generalization ability of the Random Forest and Decision Tree models, the best estimators selected via GridSearchCV with 10-fold cross-validation, were retrained on the entire training set and subsequently tested on the test set (10% of the data). The objective was to classify antimicrobial peptides into two categories: dual-function AMPs (positive class) and AMPs without dual- function (negative class) based on the 403 extracted descriptors.\n",
    "\n",
    "The predictive performance was assessed through:\n",
    "\n",
    "- A confusion matrix, providing a quantitative overview of the classification results by displaying the number of true positives, false positives, true negatives, and false negatives.\n",
    "\n",
    "- A classification report, which summarizes the main evaluation metrics: precision, recall, F1-score, and accuracy, offering a comprehensive picture of the model’s performance on unseen data."
   ]
  },
  {
   "cell_type": "code",
   "execution_count": 34,
   "metadata": {},
   "outputs": [
    {
     "name": "stdout",
     "output_type": "stream",
     "text": [
      "Confusion Matrix for Random Forest:\n",
      "[[262  10]\n",
      " [ 20 216]]\n",
      "\n",
      "Classification Report:\n",
      "              precision    recall  f1-score   support\n",
      "\n",
      "           0       0.93      0.96      0.95       272\n",
      "           1       0.96      0.92      0.94       236\n",
      "\n",
      "    accuracy                           0.94       508\n",
      "   macro avg       0.94      0.94      0.94       508\n",
      "weighted avg       0.94      0.94      0.94       508\n",
      "\n"
     ]
    },
    {
     "data": {
      "image/png": "[encoded data removed]",
      "text/plain": [
       "<Figure size 640x480 with 2 Axes>"
      ]
     },
     "metadata": {},
     "output_type": "display_data"
    }
   ],
   "source": [
    "from sklearn.pipeline import Pipeline  \n",
    "from sklearn.ensemble import RandomForestClassifier\n",
    "from sklearn.metrics import confusion_matrix, classification_report, ConfusionMatrixDisplay\n",
    "import matplotlib.pyplot as plt\n",
    "\n",
    "# Define the best Random Forest parameters\n",
    "best_rf_params = {\n",
    "    'n_estimators': 200,\n",
    "    'max_depth': 20,\n",
    "    'min_samples_split': 10\n",
    "}\n",
    "\n",
    "# Create and fit the pipeline\n",
    "best_rf_pipeline = Pipeline([\n",
    "    ('model', RandomForestClassifier(\n",
    "        n_estimators=best_rf_params['n_estimators'],\n",
    "        max_depth=best_rf_params['max_depth'],\n",
    "        min_samples_split=best_rf_params['min_samples_split'],\n",
    "        random_state=42\n",
    "    ))\n",
    "])\n",
    "\n",
    "# Train on the full training set\n",
    "best_rf_pipeline.fit(X_train, y_train)\n",
    "\n",
    "# Predict on the test set\n",
    "y_pred = best_rf_pipeline.predict(X_test)\n",
    "\n",
    "# Print confusion matrix and classification report\n",
    "print(\"Confusion Matrix for Random Forest:\")\n",
    "print(confusion_matrix(y_test, y_pred))\n",
    "\n",
    "print(\"\\nClassification Report:\")\n",
    "print(classification_report(y_test, y_pred))\n",
    "\n",
    "# Plot confusion matrix\n",
    "disp = ConfusionMatrixDisplay.from_estimator(\n",
    "    best_rf_pipeline,\n",
    "    X_test,\n",
    "    y_test,\n",
    "    cmap=plt.cm.Greens,\n",
    "    colorbar=True,\n",
    "    display_labels=[\"0\", \"1\"]\n",
    ")\n",
    "\n",
    "plt.title(\"Confusion Matrix - Random Forest\")\n",
    "plt.xlabel(\"Predicted\")\n",
    "plt.ylabel(\"Actual\")\n",
    "plt.tight_layout()\n",
    "plt.show()\n"
   ]
  },
  {
   "cell_type": "markdown",
   "metadata": {},
   "source": [
    "## Decision Tree\n",
    "\n",
    "Since the Decision Tree achieved the second-best F1-Score, it is important to evaluate its performance on the test set.\n",
    "\n",
    "The confusion matrix is used to visualize the model's performance by showing the counts of true positives, true negatives, false positives, and false negatives. Additionally, the classification report provides detailed metrics such as precision, recall, and F1-Score for each class. The graphical representation of the confusion matrix helps in better understanding the model's strengths and weaknesses in classifying the data."
   ]
  },
  {
   "cell_type": "code",
   "execution_count": 35,
   "metadata": {},
   "outputs": [
    {
     "name": "stdout",
     "output_type": "stream",
     "text": [
      "Confusion Matrix for Decision Tree (Without SMOTE):\n",
      "[[262  10]\n",
      " [ 23 213]]\n",
      "\n",
      "Classification Report:\n",
      "              precision    recall  f1-score   support\n",
      "\n",
      "           0       0.92      0.96      0.94       272\n",
      "           1       0.96      0.90      0.93       236\n",
      "\n",
      "    accuracy                           0.94       508\n",
      "   macro avg       0.94      0.93      0.93       508\n",
      "weighted avg       0.94      0.94      0.93       508\n",
      "\n"
     ]
    },
    {
     "data": {
      "image/png": "[encoded data removed]",
      "text/plain": [
       "<Figure size 640x480 with 2 Axes>"
      ]
     },
     "metadata": {},
     "output_type": "display_data"
    }
   ],
   "source": [
    "from sklearn.tree import DecisionTreeClassifier\n",
    "from sklearn.metrics import confusion_matrix, classification_report, ConfusionMatrixDisplay\n",
    "import matplotlib.pyplot as plt\n",
    "from sklearn.pipeline import Pipeline\n",
    "\n",
    "# Define the best Decision Tree parameters\n",
    "best_dt_params = {\n",
    "    'max_depth': 10,\n",
    "    'min_samples_split': 2\n",
    "}\n",
    "\n",
    "# Create and fit the pipeline\n",
    "best_dt_pipeline = Pipeline([\n",
    "    ('model', DecisionTreeClassifier(\n",
    "        max_depth=best_dt_params['max_depth'],\n",
    "        min_samples_split=best_dt_params['min_samples_split'],\n",
    "        random_state=42\n",
    "    ))\n",
    "])\n",
    "\n",
    "# Train on the full training set\n",
    "best_dt_pipeline.fit(X_train, y_train)\n",
    "\n",
    "# Predict on the test set\n",
    "y_pred = best_dt_pipeline.predict(X_test)\n",
    "\n",
    "# Print confusion matrix and classification report\n",
    "print(\"Confusion Matrix for Decision Tree (Without SMOTE):\")\n",
    "print(confusion_matrix(y_test, y_pred))\n",
    "\n",
    "print(\"\\nClassification Report:\")\n",
    "print(classification_report(y_test, y_pred))\n",
    "\n",
    "# Plot confusion matrix\n",
    "disp = ConfusionMatrixDisplay.from_estimator(\n",
    "    best_dt_pipeline,\n",
    "    X_test,\n",
    "    y_test,\n",
    "    cmap=plt.cm.Blues,\n",
    "    colorbar=True,\n",
    "    display_labels=[\"0\", \"1\"]\n",
    ")\n",
    "\n",
    "plt.title(\"Confusion Matrix - Decision Tree\")\n",
    "plt.xlabel(\"Predicted\")\n",
    "plt.ylabel(\"Actual\")\n",
    "plt.tight_layout()\n",
    "plt.show()"
   ]
  },
  {
   "cell_type": "markdown",
   "metadata": {},
   "source": [
    "In here we evaluates the performance of a Random Forest and Decision Tree classifiers using the best hyperparameters. It trains the model on the training set and evaluates it on both the training and test sets, using F1-Score and Accuracy as performance metrics. The script prints the evaluation results for both sets, followed by detailed classification reports that provide additional metrics such as precision, recall, and support. This process helps assess the model's predictive capabilities and generalization performance."
   ]
  },
  {
   "cell_type": "code",
   "execution_count": 36,
   "metadata": {},
   "outputs": [
    {
     "name": "stdout",
     "output_type": "stream",
     "text": [
      "Performance on Training Set:\n",
      "F1-Score: 0.9687\n",
      "Accuracy: 0.9713\n",
      "\n",
      "Performance on Test Set:\n",
      "F1-Score: 0.9351\n",
      "Accuracy: 0.9409\n",
      "\n",
      "Classification Report (Training Set):\n",
      "              precision    recall  f1-score   support\n",
      "\n",
      "           0       0.96      0.99      0.97      2441\n",
      "           1       0.98      0.95      0.97      2126\n",
      "\n",
      "    accuracy                           0.97      4567\n",
      "   macro avg       0.97      0.97      0.97      4567\n",
      "weighted avg       0.97      0.97      0.97      4567\n",
      "\n",
      "\n",
      "Classification Report (Test Set):\n",
      "              precision    recall  f1-score   support\n",
      "\n",
      "           0       0.93      0.96      0.95       272\n",
      "           1       0.96      0.92      0.94       236\n",
      "\n",
      "    accuracy                           0.94       508\n",
      "   macro avg       0.94      0.94      0.94       508\n",
      "weighted avg       0.94      0.94      0.94       508\n",
      "\n"
     ]
    }
   ],
   "source": [
    "from sklearn.metrics import f1_score, accuracy_score, classification_report\n",
    "\n",
    "# Define the best Random Forest parameters\n",
    "best_rf_params = {\n",
    "    'n_estimators': 200,\n",
    "    'max_depth': 20,\n",
    "    'min_samples_split': 10\n",
    "}\n",
    "\n",
    "\n",
    "rf_model = RandomForestClassifier(\n",
    "    n_estimators=best_rf_params['n_estimators'],\n",
    "    max_depth=best_rf_params['max_depth'],\n",
    "    min_samples_split=best_rf_params['min_samples_split'],\n",
    "    random_state=42\n",
    ")\n",
    "\n",
    "rf_model.fit(X_train, y_train)\n",
    "\n",
    "# Predict on the training set\n",
    "y_train_pred = rf_model.predict(X_train)\n",
    "\n",
    "# Predict on the test set\n",
    "y_test_pred = rf_model.predict(X_test)\n",
    "\n",
    "# Evaluate performance on the training set\n",
    "train_f1 = f1_score(y_train, y_train_pred)\n",
    "train_accuracy = accuracy_score(y_train, y_train_pred)\n",
    "\n",
    "# Evaluate performance on the test set\n",
    "test_f1 = f1_score(y_test, y_test_pred)\n",
    "test_accuracy = accuracy_score(y_test, y_test_pred)\n",
    "\n",
    "# Print results\n",
    "print(\"Performance on Training Set:\")\n",
    "print(f\"F1-Score: {train_f1:.4f}\")\n",
    "print(f\"Accuracy: {train_accuracy:.4f}\")\n",
    "print(\"\\nPerformance on Test Set:\")\n",
    "print(f\"F1-Score: {test_f1:.4f}\")\n",
    "print(f\"Accuracy: {test_accuracy:.4f}\")\n",
    "\n",
    "# Classification reports for detailed metrics\n",
    "print(\"\\nClassification Report (Training Set):\")\n",
    "print(classification_report(y_train, y_train_pred))\n",
    "\n",
    "print(\"\\nClassification Report (Test Set):\")\n",
    "print(classification_report(y_test, y_test_pred))"
   ]
  },
  {
   "cell_type": "markdown",
   "metadata": {},
   "source": [
    "## Interpretability of Model Predictions Through Feature Relevance\n",
    "\n",
    "To better understand the underlying biological determinants of dual antimicrobial and anticancer activity, we performed a feature importance analysis based on the trained Random Forest model. This step aims to identify which sequence-derived and physicochemical descriptors most strongly contributed to the model’s classification decisions. By ranking the features according to their relative importance, we gain insights into the specific properties that distinguish multifunctional peptides, supporting the interpretability and biological relevance of the predictive framework."
   ]
  },
  {
   "cell_type": "markdown",
   "metadata": {},
   "source": [
    "### Top 20 feautures Random Forest"
   ]
  },
  {
   "cell_type": "code",
   "execution_count": 23,
   "metadata": {},
   "outputs": [
    {
     "name": "stdout",
     "output_type": "stream",
     "text": [
      "Top 20 Features by Importance:\n",
      "                            Feature  Importance\n",
      "11                              n_C    0.075518\n",
      "12                              n_H    0.064877\n",
      "10                           length    0.061160\n",
      "19   topological_polar_surface_area    0.056200\n",
      "15                              n_S    0.049945\n",
      "14                              n_O    0.048813\n",
      "18                    n_h_acceptors    0.048008\n",
      "16                 molecular_weight    0.045548\n",
      "9                 isoelectric_point    0.043361\n",
      "4    average_number_rotatable_bonds    0.035511\n",
      "17                       n_h_donors    0.032546\n",
      "13                              n_N    0.023261\n",
      "23                            gravy    0.020264\n",
      "155                              CK    0.019626\n",
      "159                              KC    0.017531\n",
      "1                            freq_K    0.016676\n",
      "20                                K    0.016416\n",
      "3                            freq_R    0.011381\n",
      "6              energy_based_on_logP    0.010282\n",
      "22                                L    0.009955\n"
     ]
    },
    {
     "data": {
      "image/png": "[encoded data removed]",
      "text/plain": [
       "<Figure size 1000x600 with 1 Axes>"
      ]
     },
     "metadata": {},
     "output_type": "display_data"
    }
   ],
   "source": [
    "import pandas as pd\n",
    "import matplotlib.pyplot as plt\n",
    "\n",
    "# Get feature importances from the trained Random Forest model\n",
    "feature_importances = rf_model.feature_importances_\n",
    "\n",
    "# Get feature names from the training data\n",
    "feature_names = X_train.columns if hasattr(X_train, 'columns') else [f\"feature_{i}\" for i in range(X_train.shape[1])]\n",
    "\n",
    "# Create a DataFrame with feature names and their importance\n",
    "feature_importance_df = pd.DataFrame({\n",
    "    'Feature': feature_names,\n",
    "    'Importance': feature_importances\n",
    "})\n",
    "\n",
    "# Sort features by importance and select the top 20\n",
    "top_20_features = feature_importance_df.sort_values(by='Importance', ascending=False).head(20)\n",
    "\n",
    "# Print the top 20 features\n",
    "print(\"Top 20 Features by Importance:\")\n",
    "print(top_20_features)\n",
    "\n",
    "\n",
    "plt.figure(figsize=(10, 6))\n",
    "plt.barh(top_20_features['Feature'][::-1], top_20_features['Importance'][::-1], color='forestgreen')\n",
    "plt.xlabel('Importance')\n",
    "plt.title('Top 20 Features - Random Forest')\n",
    "plt.tight_layout()\n",
    "plt.show()"
   ]
  },
  {
   "cell_type": "markdown",
   "metadata": {},
   "source": [
    "Overall, the top features selected by the model align well with known biophysical principles of AMP function. The predominance of charge-related and polarity-based descriptors reinforces the central role of electrostatic interactions and amphipathic design in driving both antimicrobial and anticancer effects. These findings not only validate the machine learning model but also provide mechanistic insights that can guide future rational design of multifunctional therapeutic peptides."
   ]
  }
 ],
 "metadata": {
  "kernelspec": {
   "display_name": "Python 3",
   "language": "python",
   "name": "python3"
  },
  "language_info": {
   "codemirror_mode": {
    "name": "ipython",
    "version": 3
   },
   "file_extension": ".py",
   "mimetype": "text/x-python",
   "name": "python",
   "nbconvert_exporter": "python",
   "pygments_lexer": "ipython3",
   "version": "3.11.12"
  }
 },
 "nbformat": 4,
 "nbformat_minor": 2
}
